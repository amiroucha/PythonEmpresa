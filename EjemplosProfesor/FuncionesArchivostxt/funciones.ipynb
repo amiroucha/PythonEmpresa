{
 "cells": [
  {
   "cell_type": "markdown",
   "metadata": {},
   "source": [
    "Definición de una función\n",
    "\n",
    "Para definir una función se utiliza la palabra clave def, seguida del nombre de la función, paréntesis (donde se pueden especificar los parámetros) y dos puntos. El cuerpo de la función se escribe indentado.\n",
    "\n",
    "Cuando pongo def le estamos diciendo a pythonq ue lo que sigue es una función.\n",
    "\n",
    "Por convencion se escribe en minúsculas y guión bajo.\n",
    "\n",
    "Se recomomiendo que dentro de la función se explique que es lo que va a hacer.\n",
    "Para ello usamos comentários.\n",
    "\n"
   ]
  },
  {
   "cell_type": "code",
   "execution_count": 2,
   "metadata": {},
   "outputs": [
    {
     "name": "stdout",
     "output_type": "stream",
     "text": [
      "¡Hola, bienvenidos a la clase de Python!\n"
     ]
    }
   ],
   "source": [
    "def saludar():\n",
    "    print(\"¡Hola, bienvenidos a la clase de Python!\")\n",
    "    \n",
    "#Para ejecutar (o \"llamar\") la función, basta con escribir su nombre seguido de paréntesis:\n",
    "\n",
    "saludar()"
   ]
  },
  {
   "cell_type": "markdown",
   "metadata": {},
   "source": [
    "Funciones con parámetros\n",
    "\n",
    "Los parámetros son variables que se pasan a la función para que ésta trabaje con datos externos.\n",
    "\n",
    "Van dentro de los paréntesis."
   ]
  },
  {
   "cell_type": "code",
   "execution_count": 4,
   "metadata": {},
   "outputs": [
    {
     "name": "stdout",
     "output_type": "stream",
     "text": [
      "¡Hola, Antonio!\n"
     ]
    }
   ],
   "source": [
    "def saludar_persona(nombre):\n",
    "    print(f\"¡Hola, {nombre}!\")\n",
    "    \n",
    "saludar_persona(\"Antonio\")  # Imprime: ¡Hola, Ana!\n"
   ]
  },
  {
   "cell_type": "markdown",
   "metadata": {},
   "source": [
    "Funciones con valor de retorno\n",
    "\n",
    "Muchas funciones realizan cálculos entre otros usos y devuelven un resultado. Para ello se usa la palabra clave return.\n",
    "\n",
    "Que te devuelva algo una función no es lo mismo que imprimir.\n",
    "\n",
    "La función está bien escrita con print, pero vamos a incluir return para que nos devuelva el resultado de la función en vez de imprimir algo en pantalla.\n",
    "\n",
    "si usamos return podemos aprovechar lo que la función devuelva para almacenarlo en una variable"
   ]
  },
  {
   "cell_type": "code",
   "execution_count": 5,
   "metadata": {},
   "outputs": [
    {
     "name": "stdout",
     "output_type": "stream",
     "text": [
      "8\n"
     ]
    }
   ],
   "source": [
    "def sumar(a, b):\n",
    "    return a + b\n",
    "\n",
    "resultado = sumar(3, 5)\n",
    "print(resultado)  # Imprime: 8\n"
   ]
  },
  {
   "cell_type": "code",
   "execution_count": null,
   "metadata": {},
   "outputs": [],
   "source": [
    "def multiplicar(num1,num2):\n",
    "    return num1*num2 # si ejecuto hasta aqui no muestra nada ya que no he invocado la función\n",
    "\n",
    "resultado=multiplicar(2,5) # lo normal es que lo meta en una variable\n",
    "print(resultado)"
   ]
  },
  {
   "cell_type": "markdown",
   "metadata": {},
   "source": [
    "Funciones dinámicas"
   ]
  },
  {
   "cell_type": "markdown",
   "metadata": {},
   "source": [
    "Podemos mezclar las funciones con loops y condicionales para hacer la función más dinámica."
   ]
  },
  {
   "cell_type": "code",
   "execution_count": 7,
   "metadata": {},
   "outputs": [
    {
     "name": "stdout",
     "output_type": "stream",
     "text": [
      "True\n"
     ]
    }
   ],
   "source": [
    "def chequear_3_cifras(numero):\n",
    "    return numero in range(100,1000) #no inclusivo el mil. Recuerda que con \"in\",\n",
    "                                    # estamos haciendo una comparación Booleana.\n",
    "\n",
    "resultado=chequear_3_cifras(658)\n",
    "print(resultado)"
   ]
  },
  {
   "cell_type": "markdown",
   "metadata": {},
   "source": [
    "Si quiero que mi función en vez de chequer números de tres cifras verifique todos los elementos de una lista y me devuelva si es verdad que uno de esos números tiene 3 cifras."
   ]
  },
  {
   "cell_type": "code",
   "execution_count": 9,
   "metadata": {},
   "outputs": [
    {
     "name": "stdout",
     "output_type": "stream",
     "text": [
      "True\n"
     ]
    }
   ],
   "source": [
    "def chequear_3_cifras(lista):\n",
    "    for i in lista:\n",
    "        if i in range(100,1000):\n",
    "            return True # le puedo poner directamente True ya que es el resultado de la comprobación.\n",
    "        else:\n",
    "            pass # le digo que pase para que itere todo el ciclo for\n",
    "    return False\n",
    "# Ojo, \"return\" termina el ciclo, cuando encuentre un num de 3 cifras parará\n",
    "\n",
    "resultado=chequear_3_cifras([55,99,600])\n",
    "print(resultado)\n",
    "\n",
    "# None, es un objeto de clase NoneType\n",
    "# se trata de un objeto vacio"
   ]
  },
  {
   "cell_type": "markdown",
   "metadata": {},
   "source": [
    "Si quiero que mi función me devuelva todos los elementos que han cumplido la condición lo hacemos de la siguiente manera:"
   ]
  },
  {
   "cell_type": "code",
   "execution_count": 10,
   "metadata": {},
   "outputs": [
    {
     "name": "stdout",
     "output_type": "stream",
     "text": [
      "[554, 600]\n"
     ]
    }
   ],
   "source": [
    "def chequear_3_cifras(lista):\n",
    "    #inicializamos una lista vacía\n",
    "    lista_3_cifras=[]\n",
    "    \n",
    "    \n",
    "    for i in lista:\n",
    "        if i in range(100,1000):\n",
    "            lista_3_cifras.append(i)\n",
    "        else:\n",
    "            pass \n",
    "    return lista_3_cifras\n",
    "\n",
    "\n",
    "resultado=chequear_3_cifras([554,99,600])\n",
    "print(resultado)"
   ]
  },
  {
   "cell_type": "markdown",
   "metadata": {},
   "source": [
    "Vamos a crear una función que se encargue de desempaquetar Tuplas:"
   ]
  },
  {
   "cell_type": "markdown",
   "metadata": {},
   "source": [
    "como hacerlo sin funciones:"
   ]
  },
  {
   "cell_type": "code",
   "execution_count": 11,
   "metadata": {},
   "outputs": [
    {
     "name": "stdout",
     "output_type": "stream",
     "text": [
      "('capuchino', 1.5)\n",
      "('Expreso', 1.2)\n",
      "('Moka', 1.9)\n"
     ]
    }
   ],
   "source": [
    "precios_cafe=[(\"capuchino\",1.5),(\"Expreso\",1.2),(\"Moka\",1.9)]\n",
    "\n",
    "for elemento in precios_cafe:\n",
    "    print(elemento)\n",
    "    \n",
    "#sustituimos elemento por cafe y precio y desempaquetamos en el print"
   ]
  },
  {
   "cell_type": "markdown",
   "metadata": {},
   "source": [
    "Si deseo saber cual es el precio más caro de café.\n",
    "Aqui si podemos usar un función ya que esta va a ir repasando cada uno de los elementos y retenga el precio mayor."
   ]
  },
  {
   "cell_type": "code",
   "execution_count": 12,
   "metadata": {},
   "outputs": [
    {
     "name": "stdout",
     "output_type": "stream",
     "text": [
      "el café más caro es Expreso con un precio de 3.2 euros\n"
     ]
    }
   ],
   "source": [
    "precios_cafe=[(\"capuchino\",1.5),(\"Expreso\",3.2),(\"Moka\",1.9)]\n",
    "\n",
    "def cafe_mas_caro(lista_precios):\n",
    "    precio_mayor=0\n",
    "    cafe_mas_caro= ''\n",
    "    \n",
    "    for cafe,precio in lista_precios:\n",
    "        if precio > precio_mayor:\n",
    "            precio_mayor=precio #sobreescribe el valor\n",
    "            cafe_mas_caro= cafe # sobreescribe el café\n",
    "        else:\n",
    "            pass\n",
    "    \n",
    "    \n",
    "    \n",
    "    return(cafe_mas_caro,precio_mayor)\n",
    "\n",
    "cafe,precio= cafe_mas_caro(precios_cafe)\n",
    "print(f\"el café más caro es {cafe} con un precio de {precio} euros\")"
   ]
  },
  {
   "cell_type": "markdown",
   "metadata": {},
   "source": [
    "Interacción entre funciones:"
   ]
  },
  {
   "cell_type": "markdown",
   "metadata": {},
   "source": [
    "Ya sabemos que las funciones son bloques de código las cuales podemos invocar desde cualquier parte de nuestro código.\n",
    "\n",
    "Vamos a ver en esta parte como muchas funciones pueden interactuar entre si y como una función le puede pasar un objeto a otra función.\n",
    "\n",
    "Vamos a verlo con un pequeño juego llamado \"elige el palito\":\n",
    "\" tienes que escoger entre 4 palitos y si sacas el más corto pierdes\"\n",
    "\n"
   ]
  },
  {
   "cell_type": "code",
   "execution_count": 14,
   "metadata": {},
   "outputs": [
    {
     "name": "stdout",
     "output_type": "stream",
     "text": [
      "Te has librado por esta vez!!\n",
      "Te ha tocado ---\n"
     ]
    }
   ],
   "source": [
    "from random import shuffle\n",
    "#--------------------------------------------------------------------------\n",
    "#--------------------------------------------------------------------------\n",
    "# primero vamos a crear una lista inicial que sea la que contenga los palitos.\n",
    "\n",
    "palitos=[\"-\",\"--\",\"---\",\"----\"]\n",
    "\n",
    "    # con esto tenemos nuestro primer paso, ya hemos creado nuestra lista.\n",
    "#--------------------------------------------------------------------------\n",
    "#--------------------------------------------------------------------------\n",
    "\n",
    "# Vamos a crear una funcion para mezclar los palitos.\n",
    "\n",
    "    #para mezclar recuerda que usabamos \"shuffle\"\n",
    "    # recuerda que shuffle no devuelve nada\n",
    "    \n",
    "def mezclar(lista):\n",
    "    shuffle(lista)\n",
    "    return lista\n",
    "\n",
    "#compruebo si funciona\n",
    "#print(mezclar(palitos))\n",
    "#--------------------------------------------------------------------------\n",
    "#--------------------------------------------------------------------------\n",
    "\n",
    "# Una función que pida al usuario que elija alguno de los 4 palitos.\n",
    "\n",
    "def probar_suerte(): \n",
    "    intento= \"\"  #aquí vamos a guardar los intentos del usuario\n",
    "    \n",
    "    while intento not in [\"1\",\"2\",\"3\",\"4\"]:\n",
    "        intento= input(\"Elige un número del 1 al 4: \")\n",
    "    return int(intento)\n",
    "\n",
    "#compruebo si funciona\n",
    "#intento1 = probar_suerte()\n",
    "#print(intento1)\n",
    "\n",
    "#--------------------------------------------------------------------------\n",
    "#--------------------------------------------------------------------------\n",
    "\n",
    "# Por último una función que se encargue de comprobar esos intentos que ha hecho \n",
    "# el usuario.\n",
    "\n",
    "def chequear_intento(lista,intento):\n",
    "    if lista[intento -1] == \"-\":\n",
    "        print(\"Has perdido. Te toca lavar los platos\")\n",
    "    else:\n",
    "        print(\"Te has librado por esta vez!!\")\n",
    "        \n",
    "    print(f\"Te ha tocado {lista[intento -1 ]}\")\n",
    "\n",
    "\n",
    "#--------------------------------------------------------------------------\n",
    "#--------------------------------------------------------------------------\n",
    "\n",
    "# una vez creada nuestra función vamos a realizar una función que se alimente \n",
    "# del resto de funciones.\n",
    "# Realmente es a partir de aquí cuando vamos a escribir nuestro código.\n",
    "\n",
    "palitos_mezclados= mezclar(palitos)\n",
    "seleccion = probar_suerte()\n",
    "chequear_intento(palitos_mezclados,seleccion)\n",
    "\n",
    "\n"
   ]
  },
  {
   "cell_type": "markdown",
   "metadata": {},
   "source": [
    "El mismo ejercicio pero más limpio:"
   ]
  },
  {
   "cell_type": "code",
   "execution_count": null,
   "metadata": {},
   "outputs": [],
   "source": [
    "from random import shuffle\n",
    "\n",
    "palitos=[\"-\",\"--\",\"---\",\"----\"]\n",
    "\n",
    "def mezclar(lista):\n",
    "    shuffle(lista)\n",
    "    return lista\n",
    "\n",
    "def probar_suerte(): \n",
    "    intento= \"\"  \n",
    "    \n",
    "    while intento not in [\"1\",\"2\",\"3\",\"4\"]:\n",
    "        intento= input(\"Elige un número del 1 al 4: \")\n",
    "    return int(intento)\n",
    "\n",
    "def chequear_intento(lista,intento):\n",
    "    if lista[intento -1] == \"-\":\n",
    "        print(\"Has perdido. Te toca lavar los platos\")\n",
    "    else:\n",
    "        print(\"Te has librado por esta vez!!\")\n",
    "        \n",
    "    print(f\"Te ha tocado {lista[intento -1 ]}\")\n",
    "    \n",
    "\n",
    "palitos_mezclados= mezclar(palitos)\n",
    "seleccion = probar_suerte()\n",
    "chequear_intento(palitos_mezclados,seleccion)\n",
    "\n",
    "\n",
    "\n",
    "\n"
   ]
  }
 ],
 "metadata": {
  "kernelspec": {
   "display_name": "Python 3",
   "language": "python",
   "name": "python3"
  },
  "language_info": {
   "codemirror_mode": {
    "name": "ipython",
    "version": 3
   },
   "file_extension": ".py",
   "mimetype": "text/x-python",
   "name": "python",
   "nbconvert_exporter": "python",
   "pygments_lexer": "ipython3",
   "version": "3.13.1"
  }
 },
 "nbformat": 4,
 "nbformat_minor": 2
}
