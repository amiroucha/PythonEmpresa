{
 "cells": [
  {
   "cell_type": "markdown",
   "metadata": {},
   "source": [
    "ABRIR Y MANIPULAR ARCHIVOS EN PYTHON"
   ]
  },
  {
   "cell_type": "markdown",
   "metadata": {},
   "source": [
    "E / S = entrada / Salida. (I/O = input/output)\n",
    "\n",
    "Vamos a ver:\n",
    "    - abrir (open())\n",
    "    - leer (read())\n",
    "    - escribir  (write())\n",
    "    -cerrar archivos en txt (close())\n",
    "\n",
    "Básicamente vamos a abrir archivos alojados en variables\n",
    "\n",
    "Para ello vamos a crear un archivo .txt en el mismo lugar dodne tenemos nuestro\n",
    "archivo de python. Para esta primera toma de contacto vamos a trabajar sin especificar la ruta.\n",
    "\n"
   ]
  },
  {
   "cell_type": "code",
   "execution_count": null,
   "metadata": {},
   "outputs": [],
   "source": [
    "mi_archivo = open(\"Prueba.txt\")\n",
    "\n",
    "#print(mi_archivo) # de esta manera no nos sale\n",
    "\n",
    "\n",
    "print(mi_archivo.read())\n",
    "\n",
    "# de esta manera hemos abierto y leido un archivo de texto\n",
    "\n",
    "# CONSEJO:\n",
    "# siempre que trabajes con la apertura de un archivo, incluye al final un cierre de ese archivo\n",
    "\n",
    "mi_archivo.close()\n",
    "\n",
    "# al cerrar el archivo guardo espacio de memoria.\n",
    "\n"
   ]
  },
  {
   "cell_type": "markdown",
   "metadata": {},
   "source": [
    "\"Readline\" Lo que hace es leer una línea. \n",
    "Readline va a guardar el último punto y si lo invocamos de nuevo empieza a leer desde ese último punto.\n",
    "Cada línea en este caso tiene un salto de línea. si quiero eliminar ese salto de línea uso el métod \".rstrip()\""
   ]
  },
  {
   "cell_type": "code",
   "execution_count": null,
   "metadata": {},
   "outputs": [],
   "source": [
    "mi_archivo = open(\"Prueba.txt\")\n",
    "\n",
    "print(mi_archivo.readline()) # lee la 1 línea\n",
    "print(mi_archivo.readline().rstrip()) # lee la 2 línea\n",
    "print(mi_archivo.readline()) # lee la 3 línea\n",
    "\n",
    "mi_archivo.close()\n",
    "\n"
   ]
  },
  {
   "cell_type": "markdown",
   "metadata": {},
   "source": [
    "podemos aplicar todos los métodos string a nuestras líneas.\n",
    "Un ejemplo es Poner todo en Maýusculas en una línea."
   ]
  },
  {
   "cell_type": "code",
   "execution_count": null,
   "metadata": {},
   "outputs": [],
   "source": [
    "mi_archivo = open(\"Prueba.txt\")\n",
    "\n",
    "una_linea = mi_archivo.readline()\n",
    "\n",
    "print(una_linea.upper())\n",
    "print(una_linea)\n",
    "print(una_linea)"
   ]
  },
  {
   "cell_type": "markdown",
   "metadata": {},
   "source": [
    "Podemos iterar dentro de las líneas de un archivo:"
   ]
  },
  {
   "cell_type": "code",
   "execution_count": null,
   "metadata": {},
   "outputs": [],
   "source": [
    "mi_archivo = open(\"Prueba.txt\")\n",
    "\n",
    "for linea in mi_archivo:\n",
    "    print(\"En esta línea dice: \" + linea)"
   ]
  },
  {
   "cell_type": "markdown",
   "metadata": {},
   "source": [
    "Vamos a ver también el método \".readlines\" en plural.\n",
    "Consejo : usa readlines en archivos pequeños ya que cuando se usa abre todo el archivo."
   ]
  },
  {
   "cell_type": "code",
   "execution_count": null,
   "metadata": {},
   "outputs": [],
   "source": [
    "mi_archivo = open(\"Prueba.txt\")\n",
    "\n",
    "todas = mi_archivo.readlines()\n",
    "\n",
    "print(todas)\n",
    "\n",
    "# Nos imprime una lista que tiene 3 elementos y por ello podemos usar los \n",
    "# métodos de las listas.\n",
    "\n",
    "todas= todas.pop()\n",
    "\n",
    "print(todas)\n",
    "\n"
   ]
  },
  {
   "cell_type": "markdown",
   "metadata": {},
   "source": [
    "Esto sería lo básico para abrir y leer archivos.\n",
    "\n",
    "A modo de resumen:\n",
    "\n",
    "El manejo de archivos es una tarea común en programación. Python permite leer, escribir, modificar y eliminar archivos de manera sencilla usando funciones como open(), read(), write(), entre otras. Además, ofrece herramientas para manipular directorios y trabajar con formatos específicos."
   ]
  },
  {
   "cell_type": "markdown",
   "metadata": {},
   "source": [
    "CREAR Y ESCRIBIR ARCHIVOS"
   ]
  },
  {
   "cell_type": "markdown",
   "metadata": {},
   "source": [
    "La modificación que hicimos con los ejercicios anteriores solo afectaban a lo que se mostraba por pantalla dejando intacto el archivo original.\n",
    "Ahora vamos a ver como podemos hacer cambios en el archivo original."
   ]
  },
  {
   "cell_type": "markdown",
   "metadata": {},
   "source": [
    "Modos de apertura en open():\n",
    "● \"r\" → Lectura (por defecto)\n",
    "● \"w\" → Escritura (borra contenido previo)\n",
    "● \"a\" → Agregar contenido al final\n",
    "● \"rb\" / \"wb\" → Lectura y escritura en modo binario"
   ]
  },
  {
   "cell_type": "markdown",
   "metadata": {},
   "source": [
    "MODO SÓLO LECTURA"
   ]
  },
  {
   "cell_type": "code",
   "execution_count": null,
   "metadata": {},
   "outputs": [],
   "source": [
    "archivo = open(\"Prueba.txt\",\"r\")\n",
    "\n",
    "archivo.write(\"Soy el nuevo texto\") # método write para escribir en el archivo\n",
    "\n",
    "\n",
    "archivo.close()"
   ]
  },
  {
   "cell_type": "markdown",
   "metadata": {},
   "source": [
    "MODO ESCRITURA:\n",
    "\n",
    "\"w\"--> lo que exista será reemplazado por el nuevo texto. OJO! con esto.\n",
    "\n",
    "No crea salto de línea. Para ello lo agregamos nosotros"
   ]
  },
  {
   "cell_type": "code",
   "execution_count": 15,
   "metadata": {},
   "outputs": [],
   "source": [
    "archivo = open(\"Prueba1.txt\",\"w\")\n",
    "\n",
    "archivo.write(\"Soy el nuevo texto\") \n",
    "\n",
    "\n",
    "archivo.close()"
   ]
  },
  {
   "cell_type": "code",
   "execution_count": 16,
   "metadata": {},
   "outputs": [],
   "source": [
    "archivo = open(\"Prueba1.txt\",\"w\")\n",
    "\n",
    "archivo.write(\"Soy el nuevo texto\\n\") \n",
    "archivo.write(\"Ya no soy el nuevo texto\")\n",
    "\n",
    "\n",
    "archivo.close()"
   ]
  },
  {
   "cell_type": "markdown",
   "metadata": {},
   "source": [
    "otra forma de hacerlo es usar \"\"\" \"\"\":"
   ]
  },
  {
   "cell_type": "code",
   "execution_count": 20,
   "metadata": {},
   "outputs": [],
   "source": [
    "archivo = open(\"Prueba1.txt\",\"w\")\n",
    "\n",
    "archivo.write(\"\"\"Soy el nuevo texto,\n",
    "puedes agregar \n",
    "la info que necesites\"\"\") \n",
    "\n",
    "\n",
    "\n",
    "archivo.close()"
   ]
  },
  {
   "cell_type": "markdown",
   "metadata": {},
   "source": [
    "Para escribir líneas usamos el método \".writelines()\":"
   ]
  },
  {
   "cell_type": "code",
   "execution_count": null,
   "metadata": {},
   "outputs": [],
   "source": [
    "archivo = open(\"Prueba1.txt\",\"w\")\n",
    "\n",
    "archivo.writelines([\"hola\",\"mundo\",\"aqui\",\"estoy\"])\n",
    "# OJO!. No escribe líneas distintas, lo hace seguido.\n",
    "# no es aconsejable, para ello es mejor usar un for con el método write\n",
    "\n",
    "\n",
    "archivo.close()"
   ]
  },
  {
   "cell_type": "code",
   "execution_count": 23,
   "metadata": {},
   "outputs": [],
   "source": [
    "archivo = open(\"Prueba1.txt\",\"w\")\n",
    "\n",
    "lista = [\"hola\",\"mundo\",\"aqui\",\"estoy\"]\n",
    "\n",
    "for palabra in lista:\n",
    "    archivo.writelines(palabra + \"\\n\")\n",
    "    \n",
    "archivo.close()\n"
   ]
  },
  {
   "cell_type": "markdown",
   "metadata": {},
   "source": [
    "MODO ESCRITURA:\n",
    "\n",
    "\"a\"--> Se posiciona en el último caracter. Lo que hace es abrir el archivo, lleva el cursos hasta el final del texto y desde allí va a comezar a escribir.\n",
    "\n"
   ]
  },
  {
   "cell_type": "code",
   "execution_count": 24,
   "metadata": {},
   "outputs": [],
   "source": [
    "archivo = open(\"Prueba1.txt\",\"a\")\n",
    "\n",
    "archivo.write(\"Bienvenido\")\n",
    "\n",
    "archivo.close()"
   ]
  }
 ],
 "metadata": {
  "kernelspec": {
   "display_name": "Python 3",
   "language": "python",
   "name": "python3"
  },
  "language_info": {
   "codemirror_mode": {
    "name": "ipython",
    "version": 3
   },
   "file_extension": ".py",
   "mimetype": "text/x-python",
   "name": "python",
   "nbconvert_exporter": "python",
   "pygments_lexer": "ipython3",
   "version": "3.10.1"
  }
 },
 "nbformat": 4,
 "nbformat_minor": 2
}
